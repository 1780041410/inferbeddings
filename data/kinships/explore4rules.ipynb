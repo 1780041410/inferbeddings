{
 "cells": [
  {
   "cell_type": "code",
   "execution_count": 36,
   "metadata": {
    "collapsed": false
   },
   "outputs": [
    {
     "name": "stdout",
     "output_type": "stream",
     "text": [
      "clause file ./clauses/clauses_conf0.900_supp10.pl\n"
     ]
    }
   ],
   "source": [
    "import os\n",
    "\n",
    "min_conf = 0.9\n",
    "min_supp = 10\n",
    "min_cov = 0. #no restriction on coverage\n",
    "\n",
    "clauses_dir = './clauses'\n",
    "clauses_file = os.path.join(clauses_dir,'clauses_conf%.3f_supp%d.pl'%(min_conf, min_supp))\n",
    "if not os.path.exists(clauses_dir):\n",
    "    os.makedirs(clauses_dir)\n",
    "print('clause file %s'%clauses_file)"
   ]
  },
  {
   "cell_type": "markdown",
   "metadata": {},
   "source": [
    "load data"
   ]
  },
  {
   "cell_type": "code",
   "execution_count": 37,
   "metadata": {
    "collapsed": false
   },
   "outputs": [
    {
     "name": "stdout",
     "output_type": "stream",
     "text": [
      "[['Person0' 'Term0' 'Person45']\n",
      " ['Person0' 'Term0' 'Person96']\n",
      " ['Person1' 'Term0' 'Person45']\n",
      " ['Person1' 'Term0' 'Person96']\n",
      " ['Person2' 'Term0' 'Person86']]\n",
      "loaded kinships: 10686 facts, 104 entities, 25 relations\n",
      "on average: 102.8 facts/entity, 427.4 facts/relation\n",
      "observed 10686 different entity pairs (from 10712 possible ones)\n",
      "found 228 facts for relation Term0\n"
     ]
    }
   ],
   "source": [
    "import numpy as np\n",
    "import multiprocessing\n",
    "\n",
    "\n",
    "with open('kinships.tsv','r') as datafile:\n",
    "    facts = np.array([line.strip().split() for line in datafile])\n",
    "print(facts[:5,:])\n",
    "entities = sorted(list(set(facts[:,0]).union(set(facts[:,2]))))\n",
    "relations = sorted(list(set(facts[:,1])))\n",
    "Nfacts, Nentities, Nrelations = len(facts), len(entities), len(relations)\n",
    "print('loaded kinships: %d facts, %d entities, %d relations'%(Nfacts, Nentities, Nrelations))\n",
    "print('on average: %.1f facts/entity, %.1f facts/relation'%(Nfacts/Nentities, Nfacts/Nrelations))\n",
    "\n",
    "pairs = np.ndarray.tolist(facts[:,[0,2]])\n",
    "pairs = [str(tuple(pair)) for pair in pairs]\n",
    "print('observed %d different entity pairs (from %d possible ones)'%(len(set(pairs)), Nentities*(Nentities-1)))\n",
    "\n",
    "facts = np.ndarray.tolist(facts)\n",
    "relations2facts = {r:[fact for fact in facts if r==fact[1]] for r in relations}\n",
    "print('found %d facts for relation %s'%(len(relations2facts[relations[0]]), relations[0]))  \n",
    "    \n",
    "fact2pair = lambda fact: (fact[0],fact[2])\n",
    "fact2relation = lambda fact: fact[1]\n",
    "relation2pairs = {r: set([fact2pair(fact) for fact in facts if r==fact2relation(fact)]) for r in relations}\n",
    "#relation2pairs['Term0']"
   ]
  },
  {
   "cell_type": "markdown",
   "metadata": {},
   "source": [
    "find rules for pairs"
   ]
  },
  {
   "cell_type": "code",
   "execution_count": 38,
   "metadata": {
    "collapsed": false
   },
   "outputs": [],
   "source": [
    "#useful for exploring rules:\n",
    "calc_support = lambda relation: relation2pairs[relation]\n",
    "invpair = lambda pair: (pair[1], pair[0])\n",
    "\n",
    "def quantify_simple_implication(relation_body, relation_head):\n",
    "    rules = {}\n",
    "    #simple implication\n",
    "    pairs_body = calc_support(relation_body)\n",
    "    pairs_head = calc_support(relation_head)  \n",
    "    confidence = len(set(pairs_body).intersection(set(pairs_head))) / float(len(set(pairs_body)))\n",
    "    headcoverage = len(set(pairs_body).intersection(set(pairs_head))) / float(len(set(pairs_head)))\n",
    "    if headcoverage > 0. and not relation_body == relation_head:\n",
    "        rule = '%s(X0, X1) :- %s(X0, X1)'%(relation_head, relation_body)\n",
    "        rules[rule] = {'confidence':confidence, 'support':len(set(pairs_body)), 'coverage':headcoverage}\n",
    "\n",
    "    #inverse\n",
    "    pairs_head_inv = [invpair(p) for p in pairs_head]\n",
    "    confidence = len(set(pairs_body).intersection(set(pairs_head_inv))) / float(len(set(pairs_body)))\n",
    "    headcoverage = len(set(pairs_body).intersection(set(pairs_head_inv))) / float(len(set(pairs_head)))\n",
    "    if headcoverage > 0.:\n",
    "        rule = '%s(X0, X1) :- %s(X1, X0)'%(relation_head, relation_body)\n",
    "        rules[rule] = {'confidence':confidence, 'support':len(set(pairs_body)), 'coverage':headcoverage}\n",
    "    return rules    "
   ]
  },
  {
   "cell_type": "code",
   "execution_count": 39,
   "metadata": {
    "collapsed": false
   },
   "outputs": [
    {
     "name": "stdout",
     "output_type": "stream",
     "text": [
      "Term0(X0, X1) :- Term0(X1, X0)  (conf: 0.904, supp: 228, cov: 0.904)\n",
      "Term18(X0, X1) :- Term18(X1, X0)  (conf: 0.938, supp: 569, cov: 0.938)\n",
      "Term8(X0, X1) :- Term19(X1, X0)  (conf: 0.923, supp: 13, cov: 0.015)\n",
      "Term1(X0, X1) :- Term2(X1, X0)  (conf: 0.926, supp: 231, cov: 0.438)\n",
      "Term15(X0, X1) :- Term5(X1, X0)  (conf: 0.949, supp: 508, cov: 0.511)\n",
      "Term15(X0, X1) :- Term6(X1, X0)  (conf: 0.932, supp: 453, cov: 0.448)\n",
      "\n",
      "includes symmetric relations\n",
      "most interesting are those involving non-symmetric relations\n"
     ]
    }
   ],
   "source": [
    "simple_rules = []\n",
    "\n",
    "for p in relations:\n",
    "    for q in relations:\n",
    "        rules = quantify_simple_implication(p, q)\n",
    "        for rule in rules:\n",
    "            conf, supp, cov = rules[rule]['confidence'], rules[rule]['support'], rules[rule]['coverage']            \n",
    "            if conf >= min_conf and supp >= min_supp and cov >= min_cov:\n",
    "                print(rule, ' (conf: %.3f, supp: %d, cov: %.3f)'%(conf, supp, cov))\n",
    "                simple_rules.append(rule)\n",
    "        \n",
    "print('\\nincludes symmetric relations')\n",
    "print('most interesting are those involving non-symmetric relations')"
   ]
  },
  {
   "cell_type": "markdown",
   "metadata": {},
   "source": [
    "find rules of the form \n",
    "- r(X,Z) :- p(X,Y),q(Y,Z)\n",
    "- r(X,Z) :- p(X,Y),q(Y,Z)"
   ]
  },
  {
   "cell_type": "code",
   "execution_count": 40,
   "metadata": {
    "collapsed": true
   },
   "outputs": [],
   "source": [
    "def quantify_conj_implication(body1, body2, head):\n",
    "    rules = {}\n",
    "\n",
    "    p_body1 = calc_support(body1) #all (subject, object) pairs that form a fact with relation body1\n",
    "    p_body2 = calc_support(body2)\n",
    "    p_head = calc_support(head)\n",
    "    N_head = len(p_head)\n",
    "    \n",
    "    #for each (subject, object) of relation body1:\n",
    "    N_pXY_qYZ = 0 #ok\n",
    "    N_pXY_qYZ_rXZ = 0 #ok \n",
    "    N_pXY_qYZ_rZX = 0 #ok\n",
    "    N_pXY_qXZ = 0 #ok\n",
    "    N_pXY_qXZ_rYZ = 0 #ok\n",
    "    N_pXY_qXZ_rZY = 0 #ok\n",
    "\n",
    "    N_pXY_qZX = 0\n",
    "    N_pXY_qZX_rYZ = 0\n",
    "    N_pXY_qZX_rZY = 0    \n",
    "    N_pXY_qZY = 0\n",
    "    N_pXY_qZY_rXZ = 0\n",
    "    N_pXY_qZY_rZX = 0\n",
    "\n",
    "    for XY in p_body1:\n",
    "\n",
    "        #rules: p(X,Y) AND q(Y,Z) => ...\n",
    "        YZs = [YZ for YZ in p_body2 if YZ[0] == XY[1]] \n",
    "        for YZ in YZs: #for each of those\n",
    "            N_pXY_qYZ += 1\n",
    "            required_XZ = (XY[0],YZ[1])\n",
    "            if required_XZ in p_head:\n",
    "                N_pXY_qYZ_rXZ += 1\n",
    "            required_ZX = (YZ[1],XY[0])\n",
    "            if required_ZX in p_head:\n",
    "                N_pXY_qYZ_rZX += 1\n",
    "\n",
    "        #rules: p(X,Y) AND q(X,Z) => ...\n",
    "        XZs = [XZ for XZ in p_body2 if XZ[0] == XY[0]]\n",
    "        for XZ in XZs:\n",
    "            N_pXY_qXZ += 1\n",
    "            required_YZ = (XY[1], XZ[1])\n",
    "            if required_YZ in p_head:\n",
    "                N_pXY_qXZ_rYZ += 1\n",
    "            required_ZY = (XZ[1], XY[1])\n",
    "            if required_ZY in p_head:\n",
    "                N_pXY_qXZ_rZY += 1\n",
    "\n",
    "        #rules: p(X,Y) AND q(Z,X) => ...\n",
    "        ZXs = [ZX for ZX in p_body2 if ZX[1] == XY[0]]\n",
    "        for ZX in ZXs:\n",
    "            N_pXY_qZX += 1\n",
    "            required_YZ = (XY[1], ZX[0])\n",
    "            if required_YZ in p_head:\n",
    "                N_pXY_qZX_rYZ += 1\n",
    "            required_ZY = (ZX[0], XY[1])\n",
    "            if required_ZY in p_head:\n",
    "                N_pXY_qZX_rZY += 1\n",
    "            \n",
    "        #rules: p(X,Y) AND q(Z,Y) => ...\n",
    "        ZYs = [ZY for ZY in p_body2 if ZY[1] == XY[1]]\n",
    "        for ZY in ZYs:\n",
    "            N_pXY_qZY += 1\n",
    "            required_XZ = (XY[0], ZY[0])\n",
    "            if required_XZ in p_head:\n",
    "                N_pXY_qZY_rXZ += 1\n",
    "            required_ZX = (ZY[0], XY[0])\n",
    "            if required_ZX in p_head:\n",
    "                N_pXY_qZY_rZX += 1\n",
    "            \n",
    "    if N_pXY_qYZ_rXZ > 0:\n",
    "        rules['%s(X0, X2) :- %s(X0, X1), %s(X1, X2)'%(head, body1, body2)] = \\\n",
    "        {'confidence':N_pXY_qYZ_rXZ/float(N_pXY_qYZ), 'support':N_pXY_qYZ, 'coverage':N_pXY_qYZ_rXZ/float(N_head)}\n",
    "    if N_pXY_qYZ_rZX > 0:\n",
    "        rules['%s(X2, X0) :- %s(X0, X1), %s(X1, X2)'%(head, body1, body2)] = \\\n",
    "        {'confidence':N_pXY_qYZ_rZX/float(N_pXY_qYZ), 'support':N_pXY_qYZ, 'coverage':N_pXY_qYZ_rZX/float(N_head)}\n",
    "    if N_pXY_qXZ_rYZ > 0:\n",
    "        rules['%s(X1, X2) :- %s(X0, X1), %s(X0, X2)'%(head, body1, body2)] = \\\n",
    "        {'confidence':N_pXY_qXZ_rYZ/float(N_pXY_qXZ), 'support':N_pXY_qXZ, 'coverage':N_pXY_qXZ_rYZ/float(N_head)}\n",
    "    if N_pXY_qXZ_rZY > 0:\n",
    "        rules['%s(X2, X1) :- %s(X0, X1), %s(X0, X2)'%(head, body1, body2)] = \\\n",
    "        {'confidence':N_pXY_qXZ_rZY/float(N_pXY_qXZ), 'support':N_pXY_qXZ, 'coverage':N_pXY_qXZ_rZY/float(N_head)}\n",
    "    if N_pXY_qZX_rYZ > 0:\n",
    "        rules['%s(X1, X2) :- %s(X0, X1), %s(X2, X0)'%(head, body1, body2)] = \\\n",
    "        {'confidence':N_pXY_qZX_rYZ/float(N_pXY_qZX), 'support':N_pXY_qZX, 'coverage':N_pXY_qZX_rYZ/float(N_head)}\n",
    "    if N_pXY_qZX_rZY > 0:\n",
    "        rules['%s(X2, X1) :- %s(X0, X1), %s(X2, X0)'%(head, body1, body2)] = \\\n",
    "        {'confidence':N_pXY_qZX_rZY/float(N_pXY_qZX), 'support':N_pXY_qZX, 'coverage':N_pXY_qZX_rZY/float(N_head)}\n",
    "    if N_pXY_qZY_rXZ > 0:\n",
    "        rules['%s(X0, X2) :- %s(X0, X1), %s(X2, X1)'%(head, body1, body2)] = \\\n",
    "        {'confidence':N_pXY_qZY_rXZ/float(N_pXY_qZY), 'support':N_pXY_qZY, 'coverage':N_pXY_qZY_rXZ/float(N_head)}\n",
    "    if N_pXY_qZY_rZX > 0:\n",
    "        rules['%s(X2, X0) :- %s(X0, X1), %s(X2, X1)'%(head, body1, body2)] = \\\n",
    "        {'confidence':N_pXY_qZY_rZX/float(N_pXY_qZY), 'support':N_pXY_qZY, 'coverage':N_pXY_qZY_rZX/float(N_head)}\n",
    "                \n",
    "    return rules"
   ]
  },
  {
   "cell_type": "code",
   "execution_count": 41,
   "metadata": {
    "collapsed": false
   },
   "outputs": [
    {
     "name": "stdout",
     "output_type": "stream",
     "text": [
      "Term1(X0, X2) :- Term13(X0, X1), Term24(X1, X2)  (conf: 0.923, supp: 13, cov: 0.025)\n",
      "Term2(X2, X0) :- Term13(X0, X1), Term24(X1, X2)  (conf: 0.923, supp: 13, cov: 0.052)\n",
      "Term15(X0, X2) :- Term2(X0, X1), Term22(X1, X2)  (conf: 0.922, supp: 746, cov: 0.730)\n",
      "Term8(X2, X0) :- Term21(X0, X1), Term9(X2, X1)  (conf: 1.000, supp: 10, cov: 0.012)\n",
      "Term16(X1, X2) :- Term24(X0, X1), Term4(X0, X2)  (conf: 0.933, supp: 15, cov: 0.011)\n",
      "Term16(X1, X2) :- Term24(X0, X1), Term4(X2, X0)  (conf: 0.929, supp: 14, cov: 0.010)\n",
      "Term16(X0, X2) :- Term24(X0, X1), Term6(X2, X1)  (conf: 1.000, supp: 16, cov: 0.013)\n",
      "Term7(X2, X0) :- Term24(X0, X1), Term6(X2, X1)  (conf: 0.938, supp: 16, cov: 0.018)\n",
      "Term1(X2, X1) :- Term24(X0, X1), Term13(X2, X0)  (conf: 0.923, supp: 13, cov: 0.025)\n",
      "Term2(X1, X2) :- Term24(X0, X1), Term13(X2, X0)  (conf: 0.923, supp: 13, cov: 0.052)\n",
      "Term15(X2, X1) :- Term22(X0, X1), Term2(X2, X0)  (conf: 0.922, supp: 746, cov: 0.730)\n",
      "Term16(X2, X1) :- Term4(X0, X1), Term24(X0, X2)  (conf: 0.933, supp: 15, cov: 0.011)\n",
      "Term16(X2, X0) :- Term4(X0, X1), Term24(X1, X2)  (conf: 0.929, supp: 14, cov: 0.010)\n",
      "Term16(X2, X0) :- Term6(X0, X1), Term24(X2, X1)  (conf: 1.000, supp: 16, cov: 0.013)\n",
      "Term7(X0, X2) :- Term6(X0, X1), Term24(X2, X1)  (conf: 0.938, supp: 16, cov: 0.018)\n",
      "Term8(X0, X2) :- Term9(X0, X1), Term21(X2, X1)  (conf: 1.000, supp: 10, cov: 0.012)\n",
      "finished\n"
     ]
    }
   ],
   "source": [
    "def process(relation_tuple):\n",
    "    (p,q,r) = relation_tuple\n",
    "    rules = quantify_conj_implication(p,q,r)\n",
    "    selected_rules = []\n",
    "    for rule in rules:\n",
    "        conf, supp, cov = rules[rule]['confidence'], rules[rule]['support'], rules[rule]['coverage']            \n",
    "        if conf >= min_conf and supp >= min_supp and cov >= min_cov:\n",
    "            print(rule, ' (conf: %.3f, supp: %d, cov: %.3f)'%(conf, supp, cov))           \n",
    "            selected_rules.append(rule)\n",
    "    return selected_rules\n",
    "\n",
    "trials = [(p,q,r) for p in relations for q in relations for r in relations]\n",
    "                  \n",
    "pool = multiprocessing.Pool(multiprocessing.cpu_count())\n",
    "conj_rules = pool.map(process, trials)\n",
    "conj_rules = [r for rule_list in conj_rules for r in rule_list]    \n",
    "\n",
    "print('finished')"
   ]
  },
  {
   "cell_type": "code",
   "execution_count": 42,
   "metadata": {
    "collapsed": false
   },
   "outputs": [],
   "source": [
    "extracted_rules = simple_rules + conj_rules\n",
    "with open(clauses_file,'w') as f_out:\n",
    "    for rule in simple_rules + conj_rules:\n",
    "        f_out.write('%s\\n'%rule)\n",
    "f_out.close()"
   ]
  }
 ],
 "metadata": {
  "kernelspec": {
   "display_name": "Python 3",
   "language": "python",
   "name": "python3"
  },
  "language_info": {
   "codemirror_mode": {
    "name": "ipython",
    "version": 3
   },
   "file_extension": ".py",
   "mimetype": "text/x-python",
   "name": "python",
   "nbconvert_exporter": "python",
   "pygments_lexer": "ipython3",
   "version": "3.5.2"
  }
 },
 "nbformat": 4,
 "nbformat_minor": 1
}
