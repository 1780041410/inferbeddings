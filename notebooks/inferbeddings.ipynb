{
 "cells": [
  {
   "cell_type": "code",
   "execution_count": 1,
   "metadata": {
    "collapsed": true
   },
   "outputs": [],
   "source": [
    "import tensorflow as tf\n",
    "from inferbeddings.parse import parse_clause\n",
    "from notebooks.base import Inferbeddings\n",
    "\n",
    "triples = [\n",
    "    ('a', 'p', 'b'),\n",
    "    ('c', 'p', 'd')\n",
    "]\n",
    "clauses = [parse_clause('p(X, Y) :- p(Y, X)')]\n",
    "\n",
    "inferbeddings = Inferbeddings(triples,\n",
    "                              entity_embedding_size=10,\n",
    "                              predicate_embedding_size=10,\n",
    "                              clauses=clauses,\n",
    "                              model_name='DistMult',\n",
    "                              similarity_name='dot')\n",
    "\n",
    "init_op = tf.global_variables_initializer()\n",
    "\n",
    "with tf.Session() as session:\n",
    "    session.run(init_op)\n",
    "    \n",
    "    for epoch in range(1, 11):\n",
    "        inferbeddings.train_discriminator(session=session)\n",
    "        inferbeddings.train_adversary(session=session)"
   ]
  },
  {
   "cell_type": "code",
   "execution_count": 1,
   "metadata": {},
   "outputs": [],
   "source": [
    ""
   ]
  },
  {
   "cell_type": "code",
   "execution_count": null,
   "metadata": {},
   "outputs": [],
   "source": [
    ""
   ]
  }
 ],
 "metadata": {
  "kernelspec": {
   "display_name": "Python 2",
   "language": "python",
   "name": "python2"
  },
  "language_info": {
   "codemirror_mode": {
    "name": "ipython",
    "version": 2.0
   },
   "file_extension": ".py",
   "mimetype": "text/x-python",
   "name": "python",
   "nbconvert_exporter": "python",
   "pygments_lexer": "ipython2",
   "version": "2.7.6"
  }
 },
 "nbformat": 4,
 "nbformat_minor": 0
}