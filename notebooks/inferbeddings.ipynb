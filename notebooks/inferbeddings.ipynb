{
 "cells": [
  {
   "cell_type": "code",
   "execution_count": 1,
   "metadata": {
    "collapsed": false
   },
   "outputs": [
    {
     "name": "stderr",
     "output_type": "stream",
     "text": [
      "INFO:base:Parsing the facts in the Knowledge Base ..\n",
      "INFO:base:Initialising the Discriminator computational graph ..\n",
      "INFO:base:Instantiating the fact loss function computational graph ..\n",
      "INFO:base:Initialising the Adversary computational graph ..\n",
      "INFO:base:Samples: 2, no. batches: 10 -> batch size: 1\n",
      "INFO:base:Samples: 2, no. batches: 10 -> batch size: 1\n",
      "INFO:base:Samples: 2, no. batches: 10 -> batch size: 1\n",
      "INFO:base:Samples: 2, no. batches: 10 -> batch size: 1\n",
      "INFO:base:Samples: 2, no. batches: 10 -> batch size: 1\n",
      "INFO:base:Initialising the Adversary computational graph ..\n",
      "INFO:base:Samples: 2, no. batches: 10 -> batch size: 1\n",
      "INFO:base:Samples: 2, no. batches: 10 -> batch size: 1\n",
      "INFO:base:Samples: 2, no. batches: 10 -> batch size: 1\n",
      "INFO:base:Samples: 2, no. batches: 10 -> batch size: 1\n",
      "INFO:base:Samples: 2, no. batches: 10 -> batch size: 1\n"
     ]
    }
   ],
   "source": [
    "import tensorflow as tf\n",
    "from inferbeddings.parse import parse_clause\n",
    "from base import Inferbeddings\n",
    "\n",
    "import logging\n",
    "logging.basicConfig(level=logging.INFO)\n",
    "\n",
    "triples = [\n",
    "    ('a', 'p', 'b'),\n",
    "    ('c', 'p', 'd')\n",
    "]\n",
    "\n",
    "clause_one = parse_clause('p(X, Y) :- p(Y, X)')\n",
    "clause_two = parse_clause('p(X, Y) :- p(X, Y)')\n",
    "\n",
    "with tf.Session() as session:\n",
    "    clauses = [\n",
    "        (clause_one, 0.0),\n",
    "        (clause_two, 1.0)\n",
    "    ]\n",
    "\n",
    "    inferbeddings = Inferbeddings(session=session, triples=triples, clauses=clauses)\n",
    "\n",
    "    for epoch in range(1, 6):\n",
    "        inferbeddings.train_adversary(session=session)\n",
    "        inferbeddings.train_discriminator(session=session)\n",
    "\n",
    "    clauses = [\n",
    "        (clause_one, 1.0),\n",
    "        (clause_two, 0.0)\n",
    "    ]\n",
    "\n",
    "    inferbeddings.init_adversary(session, clauses)\n",
    "\n",
    "    for epoch in range(1, 6):\n",
    "        inferbeddings.train_adversary(session=session)\n",
    "        inferbeddings.train_discriminator(session=session)\n"
   ]
  },
  {
   "cell_type": "code",
   "execution_count": 1,
   "metadata": {
    "collapsed": true
   },
   "outputs": [],
   "source": []
  }
 ],
 "metadata": {
  "hide_input": false,
  "kernelspec": {
   "display_name": "Python 3",
   "language": "python",
   "name": "python3"
  },
  "language_info": {
   "codemirror_mode": {
    "name": "ipython",
    "version": 3
   },
   "file_extension": ".py",
   "mimetype": "text/x-python",
   "name": "python",
   "nbconvert_exporter": "python",
   "pygments_lexer": "ipython3",
   "version": "3.5.3"
  }
 },
 "nbformat": 4,
 "nbformat_minor": 0
}
