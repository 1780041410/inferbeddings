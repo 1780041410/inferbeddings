{
 "cells": [
  {
   "cell_type": "code",
   "execution_count": 1,
   "metadata": {
    "collapsed": false
   },
   "outputs": [
    {
     "name": "stderr",
     "output_type": "stream",
     "text": [
      "INFO:base:Samples: 2, no. batches: 10 -> batch size: 1\n",
      "INFO:base:Samples: 2, no. batches: 10 -> batch size: 1\n",
      "INFO:base:Samples: 2, no. batches: 10 -> batch size: 1\n",
      "INFO:base:Samples: 2, no. batches: 10 -> batch size: 1\n",
      "INFO:base:Samples: 2, no. batches: 10 -> batch size: 1\n",
      "INFO:base:Samples: 2, no. batches: 10 -> batch size: 1\n",
      "INFO:base:Samples: 2, no. batches: 10 -> batch size: 1\n",
      "INFO:base:Samples: 2, no. batches: 10 -> batch size: 1\n",
      "INFO:base:Samples: 2, no. batches: 10 -> batch size: 1\n",
      "INFO:base:Samples: 2, no. batches: 10 -> batch size: 1\n"
     ]
    }
   ],
   "source": [
    "import tensorflow as tf\n",
    "from inferbeddings.parse import parse_clause\n",
    "from base import Inferbeddings\n",
    "\n",
    "import logging\n",
    "logging.basicConfig(level=logging.INFO)\n",
    "\n",
    "triples = [\n",
    "    ('a', 'p', 'b'),\n",
    "    ('c', 'p', 'd')\n",
    "]\n",
    "clauses = [parse_clause('p(X, Y) :- p(Y, X)')]\n",
    "\n",
    "inferbeddings = Inferbeddings(triples,\n",
    "                              entity_embedding_size=10,\n",
    "                              predicate_embedding_size=10,\n",
    "                              model_name='DistMult',\n",
    "                              similarity_name='dot')\n",
    "\n",
    "init_op = tf.global_variables_initializer()\n",
    "\n",
    "with tf.Session() as session:\n",
    "    session.run(init_op)\n",
    "    \n",
    "    inferbeddings.init_adversary(clauses=clauses)\n",
    "    for epoch in range(1, 11):\n",
    "        inferbeddings.train_adversary(session=session)\n",
    "        inferbeddings.train_discriminator(session=session)"
   ]
  },
  {
   "cell_type": "code",
   "execution_count": 1,
   "metadata": {
    "collapsed": true
   },
   "outputs": [],
   "source": []
  }
 ],
 "metadata": {
  "hide_input": false,
  "kernelspec": {
   "display_name": "Python 3",
   "language": "python",
   "name": "python3"
  },
  "language_info": {
   "codemirror_mode": {
    "name": "ipython",
    "version": 3
   },
   "file_extension": ".py",
   "mimetype": "text/x-python",
   "name": "python",
   "nbconvert_exporter": "python",
   "pygments_lexer": "ipython3",
   "version": "3.5.3"
  }
 },
 "nbformat": 4,
 "nbformat_minor": 0
}
